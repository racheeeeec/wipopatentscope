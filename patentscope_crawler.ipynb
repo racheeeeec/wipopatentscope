{
 "cells": [
  {
   "cell_type": "markdown",
   "id": "d8615e46",
   "metadata": {},
   "source": [
    "## Try scraping descriptions with Selenium"
   ]
  },
  {
   "cell_type": "code",
   "execution_count": null,
   "id": "21fd831a",
   "metadata": {},
   "outputs": [],
   "source": [
    "import pandas as pd\n",
    "\n",
    "df = pd.read_csv(\"/csv_file\", sep=';', on_bad_lines='skip')"
   ]
  },
  {
   "cell_type": "code",
   "execution_count": null,
   "id": "3efe99d0",
   "metadata": {},
   "outputs": [],
   "source": [
    "def create_urllist(list):\n",
    "    urls = []\n",
    "    for p in patents:\n",
    "        url = 'https://patentscope.wipo.int/search/en/detail.jsf?docId=' + p\n",
    "        urls.append(url)\n",
    "    return urls\n",
    "\n",
    "urls = create_urllist(patents)"
   ]
  },
  {
   "cell_type": "code",
   "execution_count": null,
   "id": "c804fe91",
   "metadata": {},
   "outputs": [],
   "source": [
    "from selenium import webdriver\n",
    "from selenium.webdriver.chrome.options import Options\n",
    "from selenium.webdriver.chrome.service import Service\n",
    "from bs4 import BeautifulSoup\n",
    "from webdriver_manager.chrome import ChromeDriverManager\n",
    "import os\n",
    "\n",
    "# instantiate options\n",
    "opts = Options()\n",
    "opts.binary_location = \"C:/Program Files/Google/Chrome/Application/chrome.exe\"\n",
    "\n",
    "# set the location of the webdriver\n",
    "chrome_driver = os.getcwd() + \"chromedriver_win32\"\n",
    "\n",
    "path = r\"path/chromedriver.exe\"\n",
    "driver = webdriver.Chrome(service=Service(path))"
   ]
  },
  {
   "cell_type": "code",
   "execution_count": null,
   "id": "98ea97e3",
   "metadata": {},
   "outputs": [],
   "source": [
    "def create_otherurllist(list):\n",
    "    urls = []\n",
    "    for p in patents:\n",
    "        url = p + \"\"\n",
    "        urls.append(url)\n",
    "    return urls\n",
    "\n",
    "patent_numbers = create_otherurllist(patents)"
   ]
  },
  {
   "cell_type": "code",
   "execution_count": null,
   "id": "ff9a1807",
   "metadata": {},
   "outputs": [],
   "source": [
    "import time\n",
    "from selenium.webdriver.common.by import By\n",
    "from selenium.common.exceptions import TimeoutException\n",
    "\n",
    "timeout = 5\n",
    "texts = []\n",
    "\n",
    "for link in urls[0:500]:\n",
    "    page = driver.get(link)\n",
    "    driver.implicitly_wait(timeout)\n",
    "    desc_button = driver.find_element(By.LINK_TEXT, \"Description\")\n",
    "    desc_button.click()\n",
    "    driver.implicitly_wait(timeout)\n",
    "    desc = driver.find_element(By.TAG_NAME, \"body\")\n",
    "    description = desc.text\n",
    "    texts.append(description)\n",
    "\n",
    "print(\"Done!\")"
   ]
  },
  {
   "cell_type": "code",
   "execution_count": null,
   "id": "6bc6bd46",
   "metadata": {},
   "outputs": [],
   "source": [
    "dictionary = dict(zip(patent_numbers[0:500], texts))"
   ]
  },
  {
   "cell_type": "code",
   "execution_count": null,
   "id": "07d07c72",
   "metadata": {},
   "outputs": [],
   "source": [
    "for k,v in dictionary.items():\n",
    "    filename = k + '.txt'\n",
    "    with open('/file_path' + filename, 'w', encoding=\"utf-8\") as f:\n",
    "        f.write('%s' % (v))"
   ]
  }
 ],
 "metadata": {
  "kernelspec": {
   "display_name": "Python 3 (ipykernel)",
   "language": "python",
   "name": "python3"
  },
  "language_info": {
   "codemirror_mode": {
    "name": "ipython",
    "version": 3
   },
   "file_extension": ".py",
   "mimetype": "text/x-python",
   "name": "python",
   "nbconvert_exporter": "python",
   "pygments_lexer": "ipython3",
   "version": "3.11.2"
  }
 },
 "nbformat": 4,
 "nbformat_minor": 5
}
